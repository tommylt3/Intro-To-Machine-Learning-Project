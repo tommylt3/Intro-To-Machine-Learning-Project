{
 "cells": [
  {
   "cell_type": "code",
   "execution_count": 10,
   "metadata": {},
   "outputs": [],
   "source": [
    "import numpy as np\n",
    "import pandas as pd\n",
    "from sklearn.tree import DecisionTreeClassifier\n",
    "from sklearn.model_selection import train_test_split\n",
    "from sklearn.metrics import classification_report"
   ]
  },
  {
   "cell_type": "code",
   "execution_count": 17,
   "metadata": {},
   "outputs": [],
   "source": [
    "df = pd.read_csv(\"keys.csv\", encoding=\"latin-1\")\n",
    "\n",
    "# Remove The Numbered Column 1,2,3...\n",
    "df.drop(df.columns[0], axis=1, inplace=True)\n",
    "df.dropna(subset=[\"last_key\",\"key\"], inplace=True)\n"
   ]
  },
  {
   "cell_type": "code",
   "execution_count": 18,
   "metadata": {},
   "outputs": [],
   "source": [
    "# X and y Values\n",
    "X = df.iloc[:, 0:13]\n",
    "y = df.iloc[:, 0]\n",
    "X_train, X_test, y_train, y_test = train_test_split(X, y, random_state=21, test_size=0.18)\n"
   ]
  },
  {
   "cell_type": "code",
   "execution_count": 19,
   "metadata": {},
   "outputs": [
    {
     "name": "stdout",
     "output_type": "stream",
     "text": [
      "              precision    recall  f1-score   support\n",
      "\n",
      "        32.0       1.00      1.00      1.00         6\n",
      "        78.0       0.00      0.00      0.00         1\n",
      "        84.0       0.00      0.00      0.00         0\n",
      "        97.0       1.00      1.00      1.00         1\n",
      "        98.0       1.00      1.00      1.00         1\n",
      "       101.0       1.00      1.00      1.00         4\n",
      "       105.0       1.00      1.00      1.00         1\n",
      "       108.0       1.00      1.00      1.00         1\n",
      "       109.0       1.00      1.00      1.00         2\n",
      "       110.0       1.00      1.00      1.00         1\n",
      "       114.0       1.00      1.00      1.00         1\n",
      "       115.0       1.00      1.00      1.00         3\n",
      "       116.0       1.00      1.00      1.00         2\n",
      "       119.0       1.00      1.00      1.00         1\n",
      "      8679.0       1.00      1.00      1.00         2\n",
      "      8963.0       0.00      0.00      0.00         1\n",
      "      9003.0       0.00      0.00      0.00         1\n",
      "      9166.0       0.50      1.00      0.67         1\n",
      "\n",
      "    accuracy                           0.90        30\n",
      "   macro avg       0.75      0.78      0.76        30\n",
      "weighted avg       0.88      0.90      0.89        30\n",
      "\n"
     ]
    },
    {
     "name": "stderr",
     "output_type": "stream",
     "text": [
      "/home/tommy/DYOP/Python/Intro-To-Machine-Learning-Project/.venv/lib/python3.12/site-packages/sklearn/metrics/_classification.py:1565: UndefinedMetricWarning: Precision is ill-defined and being set to 0.0 in labels with no predicted samples. Use `zero_division` parameter to control this behavior.\n",
      "  _warn_prf(average, modifier, f\"{metric.capitalize()} is\", len(result))\n",
      "/home/tommy/DYOP/Python/Intro-To-Machine-Learning-Project/.venv/lib/python3.12/site-packages/sklearn/metrics/_classification.py:1565: UndefinedMetricWarning: Recall is ill-defined and being set to 0.0 in labels with no true samples. Use `zero_division` parameter to control this behavior.\n",
      "  _warn_prf(average, modifier, f\"{metric.capitalize()} is\", len(result))\n",
      "/home/tommy/DYOP/Python/Intro-To-Machine-Learning-Project/.venv/lib/python3.12/site-packages/sklearn/metrics/_classification.py:1565: UndefinedMetricWarning: Precision is ill-defined and being set to 0.0 in labels with no predicted samples. Use `zero_division` parameter to control this behavior.\n",
      "  _warn_prf(average, modifier, f\"{metric.capitalize()} is\", len(result))\n",
      "/home/tommy/DYOP/Python/Intro-To-Machine-Learning-Project/.venv/lib/python3.12/site-packages/sklearn/metrics/_classification.py:1565: UndefinedMetricWarning: Recall is ill-defined and being set to 0.0 in labels with no true samples. Use `zero_division` parameter to control this behavior.\n",
      "  _warn_prf(average, modifier, f\"{metric.capitalize()} is\", len(result))\n",
      "/home/tommy/DYOP/Python/Intro-To-Machine-Learning-Project/.venv/lib/python3.12/site-packages/sklearn/metrics/_classification.py:1565: UndefinedMetricWarning: Precision is ill-defined and being set to 0.0 in labels with no predicted samples. Use `zero_division` parameter to control this behavior.\n",
      "  _warn_prf(average, modifier, f\"{metric.capitalize()} is\", len(result))\n",
      "/home/tommy/DYOP/Python/Intro-To-Machine-Learning-Project/.venv/lib/python3.12/site-packages/sklearn/metrics/_classification.py:1565: UndefinedMetricWarning: Recall is ill-defined and being set to 0.0 in labels with no true samples. Use `zero_division` parameter to control this behavior.\n",
      "  _warn_prf(average, modifier, f\"{metric.capitalize()} is\", len(result))\n"
     ]
    }
   ],
   "source": [
    "\n",
    "# Classifier Time Baby\n",
    "dtc = DecisionTreeClassifier()\n",
    "dtc.fit(X_train, y_train)\n",
    "\n",
    "y_pred = dtc.predict(X_test)\n",
    "print(classification_report(y_test, y_pred))\n"
   ]
  }
 ],
 "metadata": {
  "language_info": {
   "name": "python"
  }
 },
 "nbformat": 4,
 "nbformat_minor": 2
}
